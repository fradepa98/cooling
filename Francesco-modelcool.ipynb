{
 "cells": [
  {
   "cell_type": "markdown",
   "metadata": {},
   "source": [
    "# Cooling process with by-pass and recycling\n",
    "\n",
    "Model: \n",
    "- Cooling coil with by-pass, thermal zone, mixing (recycling). \n",
    "\n",
    "Control:\n",
    "- Indoor air temperature controls the total heat of the cooling coil.\n",
    "- Indoor air humidity ratio controlls the by-pass ratio, so the damper system. (where it is known in advance)."
   ]
  },
  {
   "cell_type": "code",
   "execution_count": 1,
   "metadata": {},
   "outputs": [],
   "source": [
    "import ipywidgets as wd\n",
    "import matplotlib.pyplot as plt\n",
    "import numpy as np\n",
    "import psychro as psy\n",
    "\n",
    "plt.rcParams[\"figure.figsize\"] = (10, 7.7)\n",
    "font = {'size': 16}\n",
    "plt.rc('font', **font)"
   ]
  },
  {
   "cell_type": "code",
   "execution_count": 2,
   "metadata": {},
   "outputs": [],
   "source": [
    "import cool_dp as cc"
   ]
  },
  {
   "cell_type": "markdown",
   "metadata": {},
   "source": [
    "## General Model with legend"
   ]
  },
  {
   "cell_type": "markdown",
   "metadata": {},
   "source": [
    "<=5=================================5=========<==================\n",
    "  mo      ||                        m                          ||\n",
    "          5 (m-mo) =======1=======                             ||\n",
    "          ||       ||  (1-β)m   ||                             ||\n",
    "θo,φo=0=>[MX1]==1==/          [MX2]==3(=4)===>===F====[TZ]==5==||\n",
    " mo               |||           ||                     //      |\n",
    "                  |===1=[CC]==2===                     sl      |\n",
    "                  |     / \\\\   βm                      ||      |\n",
    "                  |    t   sl                         [BL]<-mi |\n",
    "                  |    |                                       |\n",
    "                  |    |                                       |\n",
    "                  |    |                                       |\n",
    "                  |--------------------------------------------|<-φI\n",
    "                       --------------------------[K]-----------|<-θI\n",
    "               \n",
    "LEGEND:\n",
    "Inputs:\n",
    "θo, φo      outdoor temperature & humidity ratio\n",
    "θIsp, φIsp  indoor temperature & humidity ratio set points\n",
    "mi          infiltration mass flow rate\n",
    "Qsa, Qla    auxiliary sensible and latent loads [kW]\n",
    "\n",
    "Parameters:\n",
    "m           mass flow rate of dry air (depending on the problem)\n",
    "α           fraction of fresh air\n",
    "β           by-pass factir od cooling coil (depending on the problem)\n",
    "UA          overall heat transfer coefficient\n",
    "\n",
    "Elements (13 equations):\n",
    "MX1         mixing box (2 equations)\n",
    "CC          cooling coil (4 equations)\n",
    "MX2         mixing box (2 equations)\n",
    "TZ          thermal zone (2 equations)\n",
    "BL          building (2 equations)\n",
    "Kθ          indoor temperature controller (1 equation)\n",
    "F           fan \n",
    "\n",
    "Outputs (13 unknowns):\n",
    "0, ..., 3   temperature and humidity ratio (8 unknowns)\n",
    "Qt, Qs, Ql  total, sensible and latent heat of CC (3 unknowns)\n",
    "Qs, Ql      sensible and latent heat of TZ (2 unknowns)"
   ]
  },
  {
   "cell_type": "markdown",
   "metadata": {},
   "source": [
    "### General parameters"
   ]
  },
  {
   "cell_type": "code",
   "execution_count": 3,
   "metadata": {},
   "outputs": [],
   "source": [
    "# constants\n",
    "c = 1e3         # J/kg K, air specific heat\n",
    "l = 2496e3      # J/kg, latent heat\n",
    "\n",
    "θI, φI = 24, 0.6            # °C, %, indoor air\n",
    "θo, φo = 32, 0.5           # °C, %, outdoor air\n",
    "mo = 1.00                  # kg/s, outdoor (fresh) air\n",
    "US, mi = 675, 0.7          # W/K, kg/s, overall conductivity, infiltration\n",
    "Qsa, Qla = 17000, 2000    # W, W, sensible, latent auxiliary heat"
   ]
  },
  {
   "cell_type": "markdown",
   "metadata": {},
   "source": [
    "### Estimation of the values of building characteristic."
   ]
  },
  {
   "cell_type": "code",
   "execution_count": 4,
   "metadata": {},
   "outputs": [],
   "source": [
    "wo = psy.w(θo, φo)\n",
    "wI = psy.w(θI, φI)\n",
    "\n",
    "QsTZ = (US + mi * c) * (θo - θI) + Qsa  # W, sensible load thermal zone\n",
    "QlTZ = mi * l * (wo - wI) + Qla         # W, latent load thermal zone"
   ]
  },
  {
   "cell_type": "markdown",
   "metadata": {},
   "source": [
    "### Air Handling unit object (AHU)"
   ]
  },
  {
   "cell_type": "code",
   "execution_count": 5,
   "metadata": {},
   "outputs": [],
   "source": [
    "Kθ = 1e10\n",
    "Kw = 0     # reheater switched off\n",
    "β = 0.1    # initial guess\n",
    " \n",
    "m, mo =3.5, 1\n",
    "θo, φo = 32, 0.5\n",
    "θIsp, φIsp = 24, 0.6\n",
    "\n",
    "mi = 0.7   # kg/s\n",
    "UA = 675  # W/K\n",
    "Qsa, Qla = 17000, 2000  # W\n",
    "\n",
    "parameters = m, mo, β, Kθ, Kw\n",
    "inputs = θo, φo, θIsp, φIsp, mi, UA, Qsa, Qla"
   ]
  },
  {
   "cell_type": "markdown",
   "metadata": {},
   "source": [
    "## Problem 1: The supply air mass flow rate is 3.50 kg/s (beta unknown)."
   ]
  },
  {
   "cell_type": "code",
   "execution_count": 6,
   "metadata": {},
   "outputs": [
    {
     "data": {
      "application/vnd.jupyter.widget-view+json": {
       "model_id": "9a0374ec73de43ca94491b6b1c33adfb",
       "version_major": 2,
       "version_minor": 0
      },
      "text/plain": [
       "interactive(children=(Text(value='φI', description='value'), FloatSlider(value=0.7, description='sp', max=0.7,…"
      ]
     },
     "metadata": {},
     "output_type": "display_data"
    },
    {
     "data": {
      "text/plain": [
       "<function ipywidgets.widgets.interaction._InteractFactory.__call__.<locals>.<lambda>(*args, **kwargs)>"
      ]
     },
     "execution_count": 6,
     "metadata": {},
     "output_type": "execute_result"
    }
   ],
   "source": [
    "cool1 = cc.MxCcTzBl(parameters, inputs)\n",
    "wd.interact(cool1.VBP_wd, value='φI', sp=(0.2, 0.7), θo=(28, 36), φo=(0.4, 1),\n",
    "            θIsp=(22, 26), φIsp=(0.4, 0.8),\n",
    "            mi=(0.5, 3, 0.1), UA=(500, 800, 10), Qsa=(0, 60_000, 500), Qla=(0, 20_000, 500))"
   ]
  },
  {
   "cell_type": "markdown",
   "metadata": {},
   "source": [
    "## Problem 2: The by-pass ratio is zero (supply mass flow rate unknown)."
   ]
  },
  {
   "cell_type": "code",
   "execution_count": 7,
   "metadata": {},
   "outputs": [
    {
     "data": {
      "application/vnd.jupyter.widget-view+json": {
       "model_id": "0eff7d2d1bc44c44ae14bc1b850f0c7c",
       "version_major": 2,
       "version_minor": 0
      },
      "text/plain": [
       "interactive(children=(Text(value='φI', description='value'), FloatSlider(value=0.44999999999999996, descriptio…"
      ]
     },
     "metadata": {},
     "output_type": "display_data"
    },
    {
     "data": {
      "text/plain": [
       "<function ipywidgets.widgets.interaction._InteractFactory.__call__.<locals>.<lambda>(*args, **kwargs)>"
      ]
     },
     "execution_count": 7,
     "metadata": {},
     "output_type": "execute_result"
    }
   ],
   "source": [
    "β = 0\n",
    "parameters = m, mo, β, Kθ, Kw\n",
    "cool1 = cc.MxCcTzBl(parameters, inputs)\n",
    "wd.interact(cool1.m_ls, value='φI', sp=(0.2, 0.7))"
   ]
  },
  {
   "cell_type": "markdown",
   "metadata": {},
   "source": [
    "## Problem 3: The by-pass ratio is 0.16 (supply mass flow rate unknown)."
   ]
  },
  {
   "cell_type": "code",
   "execution_count": 8,
   "metadata": {},
   "outputs": [
    {
     "data": {
      "application/vnd.jupyter.widget-view+json": {
       "model_id": "ab20395e337b4e7abf17e740e0df6d79",
       "version_major": 2,
       "version_minor": 0
      },
      "text/plain": [
       "interactive(children=(Text(value='φI', description='value'), FloatSlider(value=0.44999999999999996, descriptio…"
      ]
     },
     "metadata": {},
     "output_type": "display_data"
    },
    {
     "data": {
      "text/plain": [
       "<function ipywidgets.widgets.interaction._InteractFactory.__call__.<locals>.<lambda>(*args, **kwargs)>"
      ]
     },
     "execution_count": 8,
     "metadata": {},
     "output_type": "execute_result"
    }
   ],
   "source": [
    "β = 0.16\n",
    "parameters = m, mo, β, Kθ, Kw\n",
    "cool1 = cc.MxCcTzBl(parameters, inputs)\n",
    "wd.interact(cool1.m_ls, value='φI', sp=(0.2, 0.7))"
   ]
  },
  {
   "cell_type": "code",
   "execution_count": null,
   "metadata": {},
   "outputs": [],
   "source": []
  }
 ],
 "metadata": {
  "kernelspec": {
   "display_name": "Python 3",
   "language": "python",
   "name": "python3"
  },
  "language_info": {
   "codemirror_mode": {
    "name": "ipython",
    "version": 3
   },
   "file_extension": ".py",
   "mimetype": "text/x-python",
   "name": "python",
   "nbconvert_exporter": "python",
   "pygments_lexer": "ipython3",
   "version": "3.8.5"
  }
 },
 "nbformat": 4,
 "nbformat_minor": 4
}
